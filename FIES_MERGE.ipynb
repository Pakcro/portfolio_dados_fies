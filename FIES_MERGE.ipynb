import pandas as pd
import os

# Lista dos arquivos CSV a serem mesclados
arquivos_csv = [
    r'C:\Users\mathe\OneDrive\Documents\portfólio\fies\2019\inscritos_2019_sem1.CSV',
    r'C:\Users\mathe\OneDrive\Documents\portfólio\fies\2019\inscritos_2019_sem2.CSV',
    r'C:\Users\mathe\OneDrive\Documents\portfólio\fies\2020\inscritos_2020_sem1.CSV',
    r'C:\Users\mathe\OneDrive\Documents\portfólio\fies\2020\inscritos_2020_sem2.CSV',
    r'C:\Users\mathe\OneDrive\Documents\portfólio\fies\2021\inscritos_2021_sem1.CSV',
    r'C:\Users\mathe\OneDrive\Documents\portfólio\fies\2021\inscritos_2021_sem2.CSV'
]

# Lista para armazenar os DataFrames
dataframes = []

try:
    # Loop para ler cada arquivo CSV e adicionar ao DataFrame
    for arquivo in arquivos_csv:
        df = pd.read_csv(arquivo, encoding='latin1', delimiter=';', low_memory=False)
        dataframes.append(df)

    # Mesclar todos os DataFrames em um único DataFrame
    df_combinado = pd.concat(dataframes, ignore_index=True)

    # Nome do arquivo de saída
    output_file = r'C:\Users\mathe\OneDrive\Documents\portfólio\fies\inscritos_geral.csv'

    # Salvar o DataFrame combinado em um novo arquivo CSV
    df_combinado.to_csv(output_file, index=False, encoding='utf-8-sig')

    print(f"Arquivos combinados com sucesso! O arquivo resultante foi salvo em: {output_file}")

except FileNotFoundError as e:
    print(f"Erro: Um ou mais arquivos não foram encontrados. Detalhes: {e}")
except Exception as e:
    print(f"Ocorreu um erro inesperado: {e}")



import pandas as pd
import os

# Lista dos arquivos CSV a serem mesclados
arquivos_csv = [
    r'C:\Users\mathe\OneDrive\Documents\portfólio\fies\2019\oferta_universidades_2019_sem1.CSV',
    r'C:\Users\mathe\OneDrive\Documents\portfólio\fies\2019\oferta_universidades_2019_sem2.CSV',
    r'C:\Users\mathe\OneDrive\Documents\portfólio\fies\2020\oferta_universidades_2020_sem1.CSV',
    r'C:\Users\mathe\OneDrive\Documents\portfólio\fies\2020\oferta_universidades_2020_sem2.CSV',
    r'C:\Users\mathe\OneDrive\Documents\portfólio\fies\2021\oferta_universidades_2021_sem1.CSV',
    r'C:\Users\mathe\OneDrive\Documents\portfólio\fies\2021\oferta_universidades_2021_sem2.CSV'
]

# Lista para armazenar os DataFrames
dataframes = []

try:
    # Loop para ler cada arquivo CSV e adicionar ao DataFrame
    for arquivo in arquivos_csv:
        df = pd.read_csv(arquivo, encoding='latin1', delimiter=';', low_memory=False)
        dataframes.append(df)

    # Mesclar todos os DataFrames em um único DataFrame
    df_combinado = pd.concat(dataframes, ignore_index=True)

    # Nome do arquivo de saída
    output_file = r'C:\Users\mathe\OneDrive\Documents\portfólio\fies\oferta_universidades_geral.csv'

    # Salvar o DataFrame combinado em um novo arquivo CSV
    df_combinado.to_csv(output_file, index=False, encoding='utf-8-sig')

    print(f"Arquivos combinados com sucesso! O arquivo resultante foi salvo em: {output_file}")

except FileNotFoundError as e:
    print(f"Erro: Um ou mais arquivos não foram encontrados. Detalhes: {e}")
except Exception as e:
    print(f"Ocorreu um erro inesperado: {e}")
