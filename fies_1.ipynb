# Usado para integrar todos os arquivos CSV que se tratam de Inscritos.
import pandas as pd
import os

# Lista dos arquivos CSV a serem mesclados
arquivos_csv = [
    r'C:\Users\mathe\OneDrive\Documents\portfólio\fies\2019\inscritos_2019_sem1.CSV',
    r'C:\Users\mathe\OneDrive\Documents\portfólio\fies\2019\inscritos_2019_sem2.CSV',
    r'C:\Users\mathe\OneDrive\Documents\portfólio\fies\2020\inscritos_2020_sem1.CSV',
    r'C:\Users\mathe\OneDrive\Documents\portfólio\fies\2020\inscritos_2020_sem2.CSV',
    r'C:\Users\mathe\OneDrive\Documents\portfólio\fies\2021\inscritos_2021_sem1.CSV',
    r'C:\Users\mathe\OneDrive\Documents\portfólio\fies\2021\inscritos_2021_sem2.CSV'
]

# Lista para armazenar os DataFrames
dataframes = []

try:
    # Loop para ler cada arquivo CSV e adicionar ao DataFrame
    for arquivo in arquivos_csv:
        df = pd.read_csv(arquivo, encoding='latin1', delimiter=';', low_memory=False)
        dataframes.append(df)

    # Mesclar todos os DataFrames em um único DataFrame
    df_combinado = pd.concat(dataframes, ignore_index=True)

    # Nome do arquivo de saída
    output_file = r'C:\Users\mathe\OneDrive\Documents\portfólio\fies\inscritos_geral.csv'

    # Salvar o DataFrame combinado em um novo arquivo CSV
    df_combinado.to_csv(output_file, index=False, encoding='utf-8-sig')

    print(f"Arquivos combinados com sucesso! O arquivo resultante foi salvo em: {output_file}")

except FileNotFoundError as e:
    print(f"Erro: Um ou mais arquivos não foram encontrados. Detalhes: {e}")
except Exception as e:
    print(f"Ocorreu um erro inesperado: {e}")


# Usado para integrar todos os arquivos CSV que se tratam de Ofertas pelas Universidades.
import pandas as pd
import os

# Lista dos arquivos CSV a serem mesclados
arquivos_csv = [
    r'C:\Users\mathe\OneDrive\Documents\portfólio\fies\2019\oferta_universidades_2019_sem1.CSV',
    r'C:\Users\mathe\OneDrive\Documents\portfólio\fies\2019\oferta_universidades_2019_sem2.CSV',
    r'C:\Users\mathe\OneDrive\Documents\portfólio\fies\2020\oferta_universidades_2020_sem1.CSV',
    r'C:\Users\mathe\OneDrive\Documents\portfólio\fies\2020\oferta_universidades_2020_sem2.CSV',
    r'C:\Users\mathe\OneDrive\Documents\portfólio\fies\2021\oferta_universidades_2021_sem1.CSV',
    r'C:\Users\mathe\OneDrive\Documents\portfólio\fies\2021\oferta_universidades_2021_sem2.CSV'
]

# Lista para armazenar os DataFrames
dataframes = []

try:
    # Loop para ler cada arquivo CSV e adicionar ao DataFrame
    for arquivo in arquivos_csv:
        df = pd.read_csv(arquivo, encoding='latin1', delimiter=';', low_memory=False)
        dataframes.append(df)

    # Mesclar todos os DataFrames em um único DataFrame
    df_combinado = pd.concat(dataframes, ignore_index=True)

    # Nome do arquivo de saída
    output_file = r'C:\Users\mathe\OneDrive\Documents\portfólio\fies\oferta_universidades_geral.csv'

    # Salvar o DataFrame combinado em um novo arquivo CSV
    df_combinado.to_csv(output_file, index=False, encoding='utf-8-sig')

    print(f"Arquivos combinados com sucesso! O arquivo resultante foi salvo em: {output_file}")

except FileNotFoundError as e:
    print(f"Erro: Um ou mais arquivos não foram encontrados. Detalhes: {e}")
except Exception as e:
    print(f"Ocorreu um erro inesperado: {e}")


# Analise Exploratoria
import pandas as pd

# Caminhos para os arquivos CSV
insc = r'C:\Users\mathe\OneDrive\Documents\portfólio\fies\inscritos_geral.csv'
ofer = r'C:\Users\mathe\OneDrive\Documents\portfólio\fies\oferta_universidades_geral.csv'

# Leitura dos arquivos
df_insc = pd.read_csv(insc, encoding='utf-8', delimiter=',', low_memory=False)
df_ofer = pd.read_csv(ofer, encoding='utf-8', delimiter=',', low_memory=False)

# Função para explorar o dataset
def explorar_dataset(df, nome_arquivo):
    print(f"\n=== Explorando o arquivo: {nome_arquivo} ===")
    
    # Primeiras linhas
    print("\nPrimeiras linhas do dataset:")
    print(df.head())
    
    # Informações gerais
    print("\nInformações gerais do dataset:")
    print(df.info())
    
    # Estatísticas descritivas (numéricas)
    print("\nEstatísticas descritivas (colunas numéricas):")
    print(df.describe())
    
    # Estatísticas descritivas (categóricas)
    print("\nEstatísticas descritivas (colunas categóricas):")
    print(df.describe(include='object'))
    
    # Valores nulos
    print("\nContagem de valores nulos por coluna:")
    print(df.isnull().sum())
    
    # Tamanho do dataset
    print("\nTamanho do dataset:")
    print(f"Linhas: {df.shape[0]}, Colunas: {df.shape[1]}")
    
    # Valores únicos por coluna
    print("\nValores únicos em cada coluna:")
    for coluna in df.columns:
        print(f"{coluna}: {df[coluna].nunique()} valores únicos")
    
    # Amostra aleatória de dados
    print("\nAmostra aleatória do dataset:")
    print(df.sample(5))

# Explorando os datasets
explorar_dataset(df_insc, "inscritos_geral.csv")
explorar_dataset(df_ofer, "oferta_universidades_geral.csv")





#Gráfico de evolução da procura pelos cursos
import pandas as pd
import matplotlib.pyplot as plt

# Arquivo CSV
insc = r'C:\Users\mathe\OneDrive\Documents\portfólio\fies\inscritos_geral.csv'

# Leitura do arquivo
df_insc = pd.read_csv(insc, encoding='utf-8', delimiter=',', low_memory=False)

# Criando a contagem de cursos por ano
contagem_por_ano = df_insc.groupby(['Ano do processo seletivo', 'Nome do curso']).size().reset_index(name='Quantidade')

# Ordenando por ano e quantidade
contagem_por_ano = contagem_por_ano.sort_values(by=['Ano do processo seletivo', 'Quantidade'], ascending=[True, False])

# Filtrando os Top 3 cursos mais procurados em todos os anos
top_cursos = contagem_por_ano.groupby('Nome do curso')['Quantidade'].sum().nlargest(3).index
dados_top_cursos = contagem_por_ano[contagem_por_ano['Nome do curso'].isin(top_cursos)]

# Criando o gráfico de linhas
plt.figure(figsize=(15, 8))

# Plotando os dados
for curso in top_cursos:
    curso_data = dados_top_cursos[dados_top_cursos['Nome do curso'] == curso]
    plt.plot(curso_data['Ano do processo seletivo'], curso_data['Quantidade'], marker='o', label=curso)

# Configurações do gráfico
plt.title('Top 3 Cursos Mais Procurados ao Longo dos Anos', fontsize=16)
plt.xlabel('Ano do Processo Seletivo', fontsize=12)
plt.ylabel('Quantidade de Inscrições', fontsize=12)
plt.xticks(dados_top_cursos['Ano do processo seletivo'].unique(), fontsize=10)
plt.yticks(fontsize=10)
plt.legend(title='Nome do Curso', bbox_to_anchor=(1.05, 1), loc='upper left')
plt.grid(True)
plt.tight_layout()

#Salvar o gráfico para Story Telling
plt.savefig('top3cursos.png', format='png', dpi=300)

# Exibindo o gráfico
plt.show()


#Gráfico de linhas para entendermos a evolução de inscritos por estado
import pandas as pd
import matplotlib.pyplot as plt

# Arquivo CSV
insc = r'C:\Users\mathe\OneDrive\Documents\portfólio\fies\inscritos_geral.csv'

# Leitura do arquivo
df_insc = pd.read_csv(insc, encoding='utf-8', delimiter=',', low_memory=False)

# Criando a contagem de UF por ano
contagem_por_ano = df_insc.groupby(['Ano do processo seletivo', 'UF']).size().reset_index(name='Quantidade')

# Ordenando por ano e quantidade
contagem_por_ano = contagem_por_ano.sort_values(by=['Ano do processo seletivo', 'Quantidade'], ascending=[True, False])

# Criando o gráfico de linhas
plt.figure(figsize=(15, 8))

# Para cada UF, cria uma linha no gráfico
for uf in contagem_por_ano['UF'].unique():
    uf_data = contagem_por_ano[contagem_por_ano['UF'] == uf]
    plt.plot(uf_data['Ano do processo seletivo'], uf_data['Quantidade'], marker='o', label=uf)

# Configurações do gráfico
plt.title('Quantidade de Inscrições por UF ao Longo dos Anos', fontsize=16)
plt.xlabel('Ano do Processo Seletivo', fontsize=12)
plt.ylabel('Quantidade de Inscrições', fontsize=12)
plt.xticks(contagem_por_ano['Ano do processo seletivo'].unique(), fontsize=10)
plt.yticks(fontsize=10)
plt.legend(title='UF', bbox_to_anchor=(1.05, 1), loc='upper left')
plt.grid(True)
plt.tight_layout()

#Salvar o gráfico para Story Telling
plt.savefig('top3cursos.png', format='png', dpi=300)

# Exibindo o gráfico
plt.show()


#Gráfico de linhas por estado que mais oferta vagas
import pandas as pd
import matplotlib.pyplot as plt

# Arquivo CSV
ofer = r'C:\Users\mathe\OneDrive\Documents\portfólio\fies\oferta_universidades_geral.csv'

# Leitura do arquivo
df_ofer = pd.read_csv(ofer, encoding='utf-8', delimiter=',', low_memory=False)

# Criando a contagem de UF por ano
contagem_por_ano = df_ofer.groupby(['Ano', 'UF do Local de Oferta']).size().reset_index(name='Quantidade')

# Somando as vagas totais por UF
vagas_por_uf = contagem_por_ano.groupby('UF do Local de Oferta')['Quantidade'].sum().reset_index()

# Selecionando as Top 5 UFs com mais vagas
top_5_ufs = vagas_por_uf.nlargest(5, 'Quantidade')['UF do Local de Oferta']

# Filtrando os dados apenas para as Top 5 UFs
dados_top_5 = contagem_por_ano[contagem_por_ano['UF do Local de Oferta'].isin(top_5_ufs)]

# Criando o gráfico de linhas
plt.figure(figsize=(15, 8))

# Para cada UF do Top 5, cria uma linha no gráfico
for uf in top_5_ufs:
    uf_data = dados_top_5[dados_top_5['UF do Local de Oferta'] == uf]
    plt.plot(uf_data['Ano'], uf_data['Quantidade'], marker='o', label=uf)

# Configurações do gráfico
plt.title('Top 5 UFs com Mais Vagas Ofertadas ao Longo dos Anos', fontsize=16)
plt.xlabel('Ano do Processo Seletivo', fontsize=12)
plt.ylabel('Quantidade de Vagas', fontsize=12)
plt.xticks(dados_top_5['Ano'].unique(), fontsize=10)
plt.yticks(fontsize=10)
plt.legend(title='UF', bbox_to_anchor=(1.05, 1), loc='upper left')
plt.grid(True)
plt.tight_layout()

# Salvar o gráfico para Story Telling
plt.savefig('top5_vagas_estados.png', format='png', dpi=300)

# Exibindo o gráfico
plt.show()


#Gráfico de oferta dos cursos por parte das universidade
import pandas as pd
import matplotlib.pyplot as plt

# Arquivo CSV
ofer = r'C:\Users\mathe\OneDrive\Documents\portfólio\fies\oferta_universidades_geral.csv'

# Leitura do arquivo
df_ofer = pd.read_csv(ofer, encoding='utf-8', delimiter=',', low_memory=False)

# Criando a contagem de cursos por ano
contagem_por_ano = df_ofer.groupby(['Ano', 'Nome do Curso']).size().reset_index(name='Quantidade')

# Ordenando por ano e quantidade
contagem_por_ano = contagem_por_ano.sort_values(by=['Ano', 'Quantidade'], ascending=[True, False])

# Filtrando os Top 3 cursos mais procurados em todos os anos
top_cursos = contagem_por_ano.groupby('Nome do Curso')['Quantidade'].sum().nlargest(3).index
dados_top_cursos = contagem_por_ano[contagem_por_ano['Nome do Curso'].isin(top_cursos)]

# Criando o gráfico de linhas
plt.figure(figsize=(15, 8))

# Plotando os dados
for curso in top_cursos:
    curso_data = dados_top_cursos[dados_top_cursos['Nome do Curso'] == curso]
    plt.plot(curso_data['Ano'], curso_data['Quantidade'], marker='o', label=curso)

# Configurações do gráfico
plt.title('Top 3 Cursos Mais Ofertados ao Longo dos Anos', fontsize=16)
plt.xlabel('Ano do Processo Seletivo', fontsize=12)
plt.ylabel('Quantidade de Ofertas', fontsize=12)
plt.xticks(dados_top_cursos['Ano'].unique(), fontsize=10)
plt.yticks(fontsize=10)
plt.legend(title='Nome do Curso', bbox_to_anchor=(1.05, 1), loc='upper left')
plt.grid(True)
plt.tight_layout()

#Salvar o gráfico para Story Telling
plt.savefig('top3ofertas.png', format='png', dpi=300)

# Exibindo o gráfico
plt.show()


#Cursos mais disputados relação quantidade de candidatos para quantidade de vagas
import pandas as pd
import matplotlib.pyplot as plt

# Arquivos CSV
insc = r'C:\Users\mathe\OneDrive\Documents\portfólio\fies\inscritos_geral.csv'
ofer = r'C:\Users\mathe\OneDrive\Documents\portfólio\fies\oferta_universidades_geral.csv'

# Leitura dos arquivos
df_insc = pd.read_csv(insc, encoding='utf-8', delimiter=',', low_memory=False)
df_ofer = pd.read_csv(ofer, encoding='utf-8', delimiter=',', low_memory=False)

# Renomear colunas para uniformidade
df_insc.rename(columns={'Ano do processo seletivo': 'Ano', 'Nome do curso': 'Curso'}, inplace=True)
df_ofer.rename(columns={'Ano': 'Ano', 'Nome do Curso': 'Curso'}, inplace=True)

# Criar contagem de inscritos e vagas por curso/ano
inscritos_por_curso = df_insc.groupby(['Ano', 'Curso']).size().reset_index(name='Inscritos')
vagas_por_curso = df_ofer.groupby(['Ano', 'Curso']).size().reset_index(name='Vagas')

# Mesclar os dados
dados_merged = pd.merge(inscritos_por_curso, vagas_por_curso, on=['Ano', 'Curso'], how='inner')

# Calcular a razão inscritos/vaga
dados_merged['Razão Inscritos/Vaga'] = (dados_merged['Inscritos'] / dados_merged['Vagas']).round(0)

# Criar gráficos por ano
anos = [2019, 2020, 2021]
for ano in anos:
    # Filtrar dados por ano
    dados_ano = dados_merged[dados_merged['Ano'] == ano].sort_values(by='Razão Inscritos/Vaga', ascending=False)
    
    # Selecionar os Top 5 cursos mais disputados para o ano
    top_cursos_disputados = dados_ano.head(5)
    
    # Criar o gráfico de barras
    plt.figure(figsize=(12, 6))
    plt.bar(top_cursos_disputados['Curso'], top_cursos_disputados['Razão Inscritos/Vaga'], color='blue')
    
    # Configurações do gráfico
    plt.title(f'Top 5 Cursos Mais Disputados em {ano} (Inscritos por Vaga)', fontsize=16)
    plt.xlabel('Curso', fontsize=12)
    plt.ylabel('Inscritos por Vaga', fontsize=12)
    plt.xticks(rotation=45, ha='right', fontsize=10)
    plt.tight_layout()
    
    # Salvar o gráfico
    plt.savefig(f'cursos_mais_disputados_{ano}.png', format='png', dpi=300)
    
    # Exibir o gráfico
    plt.show()


#Gráfico quanto a distribuição de inscritos por etnia
import pandas as pd
import matplotlib.pyplot as plt

# Arquivo CSV
ofer = r'C:\Users\mathe\OneDrive\Documents\portfólio\fies\inscritos_geral.csv'

# Leitura do arquivo
df_ofer = pd.read_csv(ofer, encoding='utf-8', delimiter=',', low_memory=False)

# Criando a contagem de cada etnia
contagem_etnia = df_ofer['Etnia/Cor'].value_counts()

# Calculando as porcentagens
porcentagem_etnia = (contagem_etnia / contagem_etnia.sum()) * 100

# Criando o gráfico de barras
plt.figure(figsize=(12, 6))
porcentagem_etnia.plot(kind='bar', color='skyblue', edgecolor='black')

# Configurações do gráfico
plt.title('Porcentagem de Cada Etnia/Cor', fontsize=16)
plt.xlabel('Etnia', fontsize=12)
plt.ylabel('Porcentagem (%)', fontsize=12)
plt.xticks(rotation=45, fontsize=10)
plt.yticks(fontsize=10)
plt.grid(axis='y', linestyle='--', alpha=0.7)

# Salvando o gráfico
plt.savefig('porcentagem_etnia.png', format='png', dpi=300)

# Exibindo o gráfico
plt.show()



#Gráfico quanto a distribuição de inscritos por etnia
import pandas as pd
import matplotlib.pyplot as plt

# Arquivo CSV
ofer = r'C:\Users\mathe\OneDrive\Documents\portfólio\fies\inscritos_geral.csv'

# Leitura do arquivo
df_ofer = pd.read_csv(ofer, encoding='utf-8', delimiter=',', low_memory=False)

# Criando a contagem de cada etnia
contagem_etnia = df_ofer['Etnia/Cor'].value_counts()

# Calculando as porcentagens
porcentagem_etnia = (contagem_etnia / contagem_etnia.sum()) * 100

# Criando o gráfico de barras
plt.figure(figsize=(12, 6))
porcentagem_etnia.plot(kind='bar', color='skyblue', edgecolor='black')

# Configurações do gráfico
plt.title('Porcentagem de Cada Etnia/Cor', fontsize=16)
plt.xlabel('Etnia', fontsize=12)
plt.ylabel('Porcentagem (%)', fontsize=12)
plt.xticks(rotation=45, fontsize=10)
plt.yticks(fontsize=10)
plt.grid(axis='y', linestyle='--', alpha=0.7)

# Salvando o gráfico
plt.savefig('porcentagem_etnia.png', format='png', dpi=300)

# Exibindo o gráfico
plt.show()




